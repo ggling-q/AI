{
  "nbformat": 4,
  "nbformat_minor": 0,
  "metadata": {
    "colab": {
      "provenance": [],
      "authorship_tag": "ABX9TyOy28p54aL2TXw3G/6J/A26",
      "include_colab_link": true
    },
    "kernelspec": {
      "name": "python3",
      "display_name": "Python 3"
    },
    "language_info": {
      "name": "python"
    }
  },
  "cells": [
    {
      "cell_type": "markdown",
      "metadata": {
        "id": "view-in-github",
        "colab_type": "text"
      },
      "source": [
        "<a href=\"https://colab.research.google.com/github/ggling-q/AI/blob/main/AI3_28.ipynb\" target=\"_parent\"><img src=\"https://colab.research.google.com/assets/colab-badge.svg\" alt=\"Open In Colab\"/></a>"
      ]
    },
    {
      "cell_type": "code",
      "execution_count": null,
      "metadata": {
        "id": "gkCgyYyTmoAR"
      },
      "outputs": [],
      "source": [
        "a=[\"hi\", 10, \"80\",\"김철수\", 50, 50.6]\n",
        "a.append(1)"
      ]
    },
    {
      "cell_type": "code",
      "source": [
        "a"
      ],
      "metadata": {
        "colab": {
          "base_uri": "https://localhost:8080/"
        },
        "id": "nEzxniQ8my8P",
        "outputId": "7e93e576-2175-48a5-cefd-4ab4b702b944"
      },
      "execution_count": null,
      "outputs": [
        {
          "output_type": "execute_result",
          "data": {
            "text/plain": [
              "['hi', 10, '80', '김철수', 50, 50.6, 1]"
            ]
          },
          "metadata": {},
          "execution_count": 2
        }
      ]
    },
    {
      "cell_type": "code",
      "source": [
        "a=[\"hi\", 10, \"80\",\"김철수\", 50, 50.6]\n",
        "b=a.index(\"80\")\n",
        "a.pop(b)\n",
        "a"
      ],
      "metadata": {
        "colab": {
          "base_uri": "https://localhost:8080/"
        },
        "id": "pv-tJDJqo4rN",
        "outputId": "2c9fca76-d487-4cd9-d680-b98d00826cce"
      },
      "execution_count": null,
      "outputs": [
        {
          "output_type": "execute_result",
          "data": {
            "text/plain": [
              "['hi', 10, '김철수', 50, 50.6]"
            ]
          },
          "metadata": {},
          "execution_count": 4
        }
      ]
    },
    {
      "cell_type": "code",
      "source": [
        "#딕셔너리 : 하나의 키 값을 정해줘 키 값 안에 변수를 넣어주는 방법\n",
        "#딕셔너리의 키값을 설정하는것에 있어 꼭 수치값이 아니라도 괜찮음\n",
        "\n",
        "\n",
        "A={1: \"김철수\", 20: \"박영희\"}\n",
        "A[1]\n",
        "\n",
        "# A={“1-A”: “김철수”, “20-B”: “박영희“}\n",
        "# A[“1-A”] = 김철수\n",
        "# A[“20-B”] = 박영희\n",
        "# A.get(“1-A”) = 김철수\n",
        "# A.get(“20-B”) = 박영희"
      ],
      "metadata": {
        "colab": {
          "base_uri": "https://localhost:8080/",
          "height": 35
        },
        "id": "Uit5esUBo_Jf",
        "outputId": "eabc905a-0e06-4df6-b610-0cc2c1f62afc"
      },
      "execution_count": null,
      "outputs": [
        {
          "output_type": "execute_result",
          "data": {
            "text/plain": [
              "'김철수'"
            ],
            "application/vnd.google.colaboratory.intrinsic+json": {
              "type": "string"
            }
          },
          "metadata": {},
          "execution_count": 6
        }
      ]
    },
    {
      "cell_type": "code",
      "source": [
        "# 딕셔러리의 추가 삭제\n",
        "A={\"1-A\": \"김철수\", \"20-B\": \"박영희\"}\n",
        " #추가 : \n",
        "A[\"2-A\"] = \"영희\"\n",
        "#삭제 : \n",
        "del A[\"2-A\"]"
      ],
      "metadata": {
        "id": "ci8nWWoIq1qm"
      },
      "execution_count": null,
      "outputs": []
    },
    {
      "cell_type": "code",
      "source": [
        "a=range(1,10)\n",
        "list(a)"
      ],
      "metadata": {
        "colab": {
          "base_uri": "https://localhost:8080/"
        },
        "id": "sIPEzR65wEdT",
        "outputId": "019eae39-c036-404b-e09b-357b856c41e0"
      },
      "execution_count": null,
      "outputs": [
        {
          "output_type": "execute_result",
          "data": {
            "text/plain": [
              "[1, 2, 3, 4, 5, 6, 7, 8, 9]"
            ]
          },
          "metadata": {},
          "execution_count": 11
        }
      ]
    },
    {
      "cell_type": "code",
      "source": [
        "for i in range(1,10):\n",
        "  print(i)"
      ],
      "metadata": {
        "colab": {
          "base_uri": "https://localhost:8080/"
        },
        "id": "Ht65nna6xIf7",
        "outputId": "b5766678-d173-4c7c-ea15-92bc2aaa142b"
      },
      "execution_count": null,
      "outputs": [
        {
          "output_type": "stream",
          "name": "stdout",
          "text": [
            "1\n",
            "2\n",
            "3\n",
            "4\n",
            "5\n",
            "6\n",
            "7\n",
            "8\n",
            "9\n"
          ]
        }
      ]
    },
    {
      "cell_type": "code",
      "source": [
        "for a1 in range(1,10):\n",
        "  print(\"-------------------\")\n",
        "  print(a1,\"단 입니다.\")\n",
        "  for a2 in range(1,10):\n",
        "    print(a1,\"*\",a2,\"=\",a1*a2)"
      ],
      "metadata": {
        "colab": {
          "base_uri": "https://localhost:8080/"
        },
        "id": "ub6xYazpycpS",
        "outputId": "ddcf0f6a-888a-40ee-8ffa-8c96cf526fb9"
      },
      "execution_count": null,
      "outputs": [
        {
          "output_type": "stream",
          "name": "stdout",
          "text": [
            "-------------------\n",
            "1 단 입니다.\n",
            "1 * 1 = 1\n",
            "1 * 2 = 2\n",
            "1 * 3 = 3\n",
            "1 * 4 = 4\n",
            "1 * 5 = 5\n",
            "1 * 6 = 6\n",
            "1 * 7 = 7\n",
            "1 * 8 = 8\n",
            "1 * 9 = 9\n",
            "-------------------\n",
            "2 단 입니다.\n",
            "2 * 1 = 2\n",
            "2 * 2 = 4\n",
            "2 * 3 = 6\n",
            "2 * 4 = 8\n",
            "2 * 5 = 10\n",
            "2 * 6 = 12\n",
            "2 * 7 = 14\n",
            "2 * 8 = 16\n",
            "2 * 9 = 18\n",
            "-------------------\n",
            "3 단 입니다.\n",
            "3 * 1 = 3\n",
            "3 * 2 = 6\n",
            "3 * 3 = 9\n",
            "3 * 4 = 12\n",
            "3 * 5 = 15\n",
            "3 * 6 = 18\n",
            "3 * 7 = 21\n",
            "3 * 8 = 24\n",
            "3 * 9 = 27\n",
            "-------------------\n",
            "4 단 입니다.\n",
            "4 * 1 = 4\n",
            "4 * 2 = 8\n",
            "4 * 3 = 12\n",
            "4 * 4 = 16\n",
            "4 * 5 = 20\n",
            "4 * 6 = 24\n",
            "4 * 7 = 28\n",
            "4 * 8 = 32\n",
            "4 * 9 = 36\n",
            "-------------------\n",
            "5 단 입니다.\n",
            "5 * 1 = 5\n",
            "5 * 2 = 10\n",
            "5 * 3 = 15\n",
            "5 * 4 = 20\n",
            "5 * 5 = 25\n",
            "5 * 6 = 30\n",
            "5 * 7 = 35\n",
            "5 * 8 = 40\n",
            "5 * 9 = 45\n",
            "-------------------\n",
            "6 단 입니다.\n",
            "6 * 1 = 6\n",
            "6 * 2 = 12\n",
            "6 * 3 = 18\n",
            "6 * 4 = 24\n",
            "6 * 5 = 30\n",
            "6 * 6 = 36\n",
            "6 * 7 = 42\n",
            "6 * 8 = 48\n",
            "6 * 9 = 54\n",
            "-------------------\n",
            "7 단 입니다.\n",
            "7 * 1 = 7\n",
            "7 * 2 = 14\n",
            "7 * 3 = 21\n",
            "7 * 4 = 28\n",
            "7 * 5 = 35\n",
            "7 * 6 = 42\n",
            "7 * 7 = 49\n",
            "7 * 8 = 56\n",
            "7 * 9 = 63\n",
            "-------------------\n",
            "8 단 입니다.\n",
            "8 * 1 = 8\n",
            "8 * 2 = 16\n",
            "8 * 3 = 24\n",
            "8 * 4 = 32\n",
            "8 * 5 = 40\n",
            "8 * 6 = 48\n",
            "8 * 7 = 56\n",
            "8 * 8 = 64\n",
            "8 * 9 = 72\n",
            "-------------------\n",
            "9 단 입니다.\n",
            "9 * 1 = 9\n",
            "9 * 2 = 18\n",
            "9 * 3 = 27\n",
            "9 * 4 = 36\n",
            "9 * 5 = 45\n",
            "9 * 6 = 54\n",
            "9 * 7 = 63\n",
            "9 * 8 = 72\n",
            "9 * 9 = 81\n"
          ]
        }
      ]
    },
    {
      "cell_type": "code",
      "source": [
        "x = [1, 2, 3]\n",
        "y = ['a', 'b', 'c']\n",
        "\n",
        "for i, j in zip(x, y):\n",
        "    print('현재 i는', i, '이고, j는', j, '입니다.')\n",
        "\n",
        "# 출력 결과\n",
        "# 현재 i는 1 이고, j는 a 입니다.\n",
        "# 현재 i는 2 이고, j는 b 입니다.\n",
        "# 현재 i는 3 이고, j는 c 입니다."
      ],
      "metadata": {
        "colab": {
          "base_uri": "https://localhost:8080/"
        },
        "id": "YTdXSLS52Yco",
        "outputId": "6ede383c-3639-4c40-a174-c179ad6788f1"
      },
      "execution_count": null,
      "outputs": [
        {
          "output_type": "stream",
          "name": "stdout",
          "text": [
            "현재 i는 1 이고, j는 a 입니다.\n",
            "현재 i는 2 이고, j는 b 입니다.\n",
            "현재 i는 3 이고, j는 c 입니다.\n"
          ]
        }
      ]
    },
    {
      "cell_type": "code",
      "source": [
        "x12=[\"033-570-6371\",\"033-570-6376\",\"033-570-6377\",\"033-570-6378\",\"033-570-6587\"]\n",
        "y12=[\"유희경\",\"황득영\",\"권세진\",\"이태민\",\"김창균\"]\n",
        "\n",
        "\n",
        "for x12,y12 in zip(x12,y12):\n",
        "  print(\"교수님 이름:\",x12,\"에 해당하는 번호는\",y12)"
      ],
      "metadata": {
        "colab": {
          "base_uri": "https://localhost:8080/"
        },
        "id": "pBglWv3g2zan",
        "outputId": "79d7c2d9-765c-444c-cce4-6e8a2aa60fbe"
      },
      "execution_count": null,
      "outputs": [
        {
          "output_type": "stream",
          "name": "stdout",
          "text": [
            "교수님 이름: 033-570-6371 에 해당하는 번호는 유희경\n",
            "교수님 이름: 033-570-6376 에 해당하는 번호는 황득영\n",
            "교수님 이름: 033-570-6377 에 해당하는 번호는 권세진\n",
            "교수님 이름: 033-570-6378 에 해당하는 번호는 이태민\n",
            "교수님 이름: 033-570-6587 에 해당하는 번호는 김창균\n"
          ]
        }
      ]
    },
    {
      "cell_type": "code",
      "source": [
        "for i1 in range(1,10):\n",
        "  for i2 in range(1,i1+1):\n",
        "    print(\"*\",end=\"\")\n",
        "  print(\" \")"
      ],
      "metadata": {
        "colab": {
          "base_uri": "https://localhost:8080/"
        },
        "id": "w557ihN4z_iI",
        "outputId": "9d4a4694-aa9c-4ba0-d1c8-0ae6f70e5641"
      },
      "execution_count": null,
      "outputs": [
        {
          "output_type": "stream",
          "name": "stdout",
          "text": [
            "* \n",
            "** \n",
            "*** \n",
            "**** \n",
            "***** \n",
            "****** \n",
            "******* \n",
            "******** \n",
            "********* \n"
          ]
        }
      ]
    },
    {
      "cell_type": "code",
      "source": [
        "for i in range(10):\n",
        "  print(\"1\"*i)"
      ],
      "metadata": {
        "colab": {
          "base_uri": "https://localhost:8080/"
        },
        "id": "B7ZchrvBechY",
        "outputId": "6d63c6c3-5534-41a3-98b8-3fb8c45f97e7"
      },
      "execution_count": 6,
      "outputs": [
        {
          "output_type": "stream",
          "name": "stdout",
          "text": [
            "\n",
            "1\n",
            "11\n",
            "111\n",
            "1111\n",
            "11111\n",
            "111111\n",
            "1111111\n",
            "11111111\n",
            "111111111\n"
          ]
        }
      ]
    },
    {
      "cell_type": "code",
      "source": [
        "for z1 in range(1,10):\n",
        "  for z2 in range(1,z1):\n",
        "    print(\" \",end=\"\")\n",
        "  for z3 in range(z1,10):\n",
        "      print(\"*\",end=\"\")\n",
        "  print(\" \")"
      ],
      "metadata": {
        "colab": {
          "base_uri": "https://localhost:8080/"
        },
        "id": "OfsjiBHZ1hAR",
        "outputId": "db335ee9-f7d9-4035-ffd3-ad5117eaad08"
      },
      "execution_count": null,
      "outputs": [
        {
          "output_type": "stream",
          "name": "stdout",
          "text": [
            "********* \n",
            " ******** \n",
            "  ******* \n",
            "   ****** \n",
            "    ***** \n",
            "     **** \n",
            "      *** \n",
            "       ** \n",
            "        * \n"
          ]
        }
      ]
    },
    {
      "cell_type": "code",
      "source": [
        "import os\n",
        "os.getcwd()"
      ],
      "metadata": {
        "colab": {
          "base_uri": "https://localhost:8080/",
          "height": 35
        },
        "id": "TzEt4rIk6fdN",
        "outputId": "0e197002-1aac-4110-a026-c39df0e1c07f"
      },
      "execution_count": null,
      "outputs": [
        {
          "output_type": "execute_result",
          "data": {
            "text/plain": [
              "'/content'"
            ],
            "application/vnd.google.colaboratory.intrinsic+json": {
              "type": "string"
            }
          },
          "metadata": {},
          "execution_count": 38
        }
      ]
    },
    {
      "cell_type": "code",
      "source": [
        "os.chdir(\"/content\")\n",
        "dir_list=os.listdir()"
      ],
      "metadata": {
        "id": "t-H_Nhdn8Npt"
      },
      "execution_count": null,
      "outputs": []
    },
    {
      "cell_type": "code",
      "source": [
        "slist=\"김철수/20,이철수/24,김영희/21,이영희/24,김민준/35,박민준/40,김지영/34,박지영/35\".split(\",\")\n",
        "print(slist)\n",
        "for i10 in range(0,8):\n",
        "  sslist[i10]=slist[i10].split(\"/\")\n",
        "sslist"
      ],
      "metadata": {
        "colab": {
          "base_uri": "https://localhost:8080/",
          "height": 248
        },
        "id": "uZmSlg1t8Qjd",
        "outputId": "6ba0ac07-1233-473d-8807-58a420c65b68"
      },
      "execution_count": null,
      "outputs": [
        {
          "output_type": "stream",
          "name": "stdout",
          "text": [
            "['김철수/20', '이철수/24', '김영희/21', '이영희/24', '김민준/35', '박민준/40', '김지영/34', '박지영/35']\n"
          ]
        },
        {
          "output_type": "error",
          "ename": "IndexError",
          "evalue": "ignored",
          "traceback": [
            "\u001b[0;31m---------------------------------------------------------------------------\u001b[0m",
            "\u001b[0;31mIndexError\u001b[0m                                Traceback (most recent call last)",
            "\u001b[0;32m<ipython-input-62-28a5a3b76708>\u001b[0m in \u001b[0;36m<module>\u001b[0;34m\u001b[0m\n\u001b[1;32m      2\u001b[0m \u001b[0mprint\u001b[0m\u001b[0;34m(\u001b[0m\u001b[0mslist\u001b[0m\u001b[0;34m)\u001b[0m\u001b[0;34m\u001b[0m\u001b[0;34m\u001b[0m\u001b[0m\n\u001b[1;32m      3\u001b[0m \u001b[0;32mfor\u001b[0m \u001b[0mi10\u001b[0m \u001b[0;32min\u001b[0m \u001b[0mrange\u001b[0m\u001b[0;34m(\u001b[0m\u001b[0;36m0\u001b[0m\u001b[0;34m,\u001b[0m\u001b[0;36m8\u001b[0m\u001b[0;34m)\u001b[0m\u001b[0;34m:\u001b[0m\u001b[0;34m\u001b[0m\u001b[0;34m\u001b[0m\u001b[0m\n\u001b[0;32m----> 4\u001b[0;31m   \u001b[0msslist\u001b[0m\u001b[0;34m[\u001b[0m\u001b[0mi10\u001b[0m\u001b[0;34m]\u001b[0m\u001b[0;34m=\u001b[0m\u001b[0mslist\u001b[0m\u001b[0;34m[\u001b[0m\u001b[0mi10\u001b[0m\u001b[0;34m]\u001b[0m\u001b[0;34m.\u001b[0m\u001b[0msplit\u001b[0m\u001b[0;34m(\u001b[0m\u001b[0;34m\"/\"\u001b[0m\u001b[0;34m)\u001b[0m\u001b[0;34m\u001b[0m\u001b[0;34m\u001b[0m\u001b[0m\n\u001b[0m\u001b[1;32m      5\u001b[0m \u001b[0msslist\u001b[0m\u001b[0;34m\u001b[0m\u001b[0;34m\u001b[0m\u001b[0m\n",
            "\u001b[0;31mIndexError\u001b[0m: list assignment index out of range"
          ]
        }
      ]
    }
  ]
}