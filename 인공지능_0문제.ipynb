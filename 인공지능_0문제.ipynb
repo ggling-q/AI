{
  "nbformat": 4,
  "nbformat_minor": 0,
  "metadata": {
    "colab": {
      "provenance": [],
      "include_colab_link": true
    },
    "kernelspec": {
      "name": "python3",
      "display_name": "Python 3"
    },
    "language_info": {
      "name": "python"
    }
  },
  "cells": [
    {
      "cell_type": "markdown",
      "metadata": {
        "id": "view-in-github",
        "colab_type": "text"
      },
      "source": [
        "<a href=\"https://colab.research.google.com/github/ggling-q/AI/blob/main/%EC%9D%B8%EA%B3%B5%EC%A7%80%EB%8A%A5_0%EB%AC%B8%EC%A0%9C.ipynb\" target=\"_parent\"><img src=\"https://colab.research.google.com/assets/colab-badge.svg\" alt=\"Open In Colab\"/></a>"
      ]
    },
    {
      "cell_type": "markdown",
      "source": [
        "##name과 age 변수를 만들어 print와 format을 활용해 name 변수에는 이름, age변수에는 나이를 입력해 결과를 프린트 하시오"
      ],
      "metadata": {
        "id": "7R5RuZ9ov_FA"
      }
    },
    {
      "cell_type": "code",
      "execution_count": null,
      "metadata": {
        "id": "yEcyYjukdfLX",
        "colab": {
          "base_uri": "https://localhost:8080/"
        },
        "outputId": "b47728f9-89b5-440b-edbc-e75c77c7b793"
      },
      "outputs": [
        {
          "name": "stdout",
          "output_type": "stream",
          "text": [
            "김창균\n",
            "34\n"
          ]
        }
      ],
      "source": [
        "name=input()\n",
        "age=int(input())"
      ]
    },
    {
      "cell_type": "code",
      "source": [
        "print((\"이름 : {}, 나이 : {}\").format(name, age))"
      ],
      "metadata": {
        "id": "lbAiXR_bkS1r",
        "colab": {
          "base_uri": "https://localhost:8080/"
        },
        "outputId": "02ecd8bf-46f3-421a-e1d8-5f12bef25b77"
      },
      "execution_count": null,
      "outputs": [
        {
          "output_type": "stream",
          "name": "stdout",
          "text": [
            "이름 : 김창균, 나이 : 34\n"
          ]
        }
      ]
    },
    {
      "cell_type": "markdown",
      "source": [
        "##1단 부터 9단까지 구구단을 만드시오"
      ],
      "metadata": {
        "id": "-FbiR7FjU4hm"
      }
    },
    {
      "cell_type": "code",
      "source": [
        "for i in range(1,10):\n",
        "  print((\"------{}단-----\").format(i))\n",
        "  for j in range(1,10):\n",
        "    print((\"{}X{}={}\").format(i, j, i*j))"
      ],
      "metadata": {
        "id": "sIT1JaDHkSUz"
      },
      "execution_count": null,
      "outputs": []
    },
    {
      "cell_type": "markdown",
      "source": [
        "##exam=[60,80,95,69,90,81,80,69,79,66,70,90,96]을 리스트로 변환하고 90점 이상 A 80점 이상 90점 미만B, 70점 이상 80점 미만을 C 60점 이상 70점 미만은 D 이외는 F로 아래와 같이 나타내시오"
      ],
      "metadata": {
        "id": "fP15Ya3WVC4k"
      }
    },
    {
      "cell_type": "code",
      "source": [
        "exam=[60,80,95,69,90,81,80,69,79,66,70,90,96]"
      ],
      "metadata": {
        "id": "VXrKw-tikbgJ"
      },
      "execution_count": null,
      "outputs": []
    },
    {
      "cell_type": "code",
      "source": [
        "for i in exam:\n",
        "  if i>=90:\n",
        "    print(\"A\")\n",
        "  elif i>=80 and i<90:\n",
        "    print(\"B\")\n",
        "  elif i>=70 and i<80:\n",
        "    print(\"C\")\n",
        "  elif i>=60 and i<70:\n",
        "    print(\"D\")\n",
        "  else:\n",
        "    print(\"정확한 값을 입력해주세요\")"
      ],
      "metadata": {
        "id": "zEnlW3z0Vj6t"
      },
      "execution_count": null,
      "outputs": []
    },
    {
      "cell_type": "code",
      "source": [],
      "metadata": {
        "id": "IzAMVjDpVjx9"
      },
      "execution_count": null,
      "outputs": []
    },
    {
      "cell_type": "markdown",
      "source": [
        "##중국집에서 주문을 한다. 짜장면 한그릇은 10,000원 이다. 입력 금액이 짜장면 한 그릇보다 많으면 구매가능 아니면 구매 불가능으로 나타내시오"
      ],
      "metadata": {
        "id": "mj-ZoI-bVHPN"
      }
    },
    {
      "cell_type": "code",
      "source": [
        "j=int(input())\n",
        "if j >=10000:\n",
        "  print(\"구매가능\")\n",
        "else:\n",
        "  print(\"구매불가능\")"
      ],
      "metadata": {
        "id": "vKwq2MvHVJx1",
        "colab": {
          "base_uri": "https://localhost:8080/"
        },
        "outputId": "c6b1d143-2ab2-4ba0-9d74-9d16b4e30fc0"
      },
      "execution_count": null,
      "outputs": [
        {
          "output_type": "stream",
          "name": "stdout",
          "text": [
            "15000\n",
            "구매가능\n"
          ]
        }
      ]
    },
    {
      "cell_type": "markdown",
      "source": [
        "##중국집에서 주문을 한다. 짜장면 한그릇은 10,000원 이다. 입력 금액이 짜장면 한 그릇보다 많으면 구매가능 아니면 구매 불가능으로 나타내시오\n",
        "\n",
        "당신은 13000원이 있으므로 1개 구매가능"
      ],
      "metadata": {
        "id": "qlcSZbGtc0-t"
      }
    },
    {
      "cell_type": "code",
      "source": [],
      "metadata": {
        "id": "SKaunC62dID9"
      },
      "execution_count": null,
      "outputs": []
    },
    {
      "cell_type": "markdown",
      "source": [
        "##저는 .. 학과이고 이름은 .. 저의 나이는 ... 이고 저의 키는 ...입니다."
      ],
      "metadata": {
        "id": "O1A0n_gadJSd"
      }
    },
    {
      "cell_type": "code",
      "source": [],
      "metadata": {
        "id": "vKwIYszdeNbO"
      },
      "execution_count": null,
      "outputs": []
    },
    {
      "cell_type": "markdown",
      "source": [
        "##한 학생의 시험 점수는 다음과 같다. grades=[85, 90, 92, 78, 80, 95]이때 모든 점수의 합의 평균이 85점이 넘을때 시험에 합격했습니다.라는 문구를 넣어서 print해줘 "
      ],
      "metadata": {
        "id": "tIb5erX3gbW2"
      }
    },
    {
      "cell_type": "code",
      "source": [],
      "metadata": {
        "id": "Vmn5WpvwDX84"
      },
      "execution_count": null,
      "outputs": []
    },
    {
      "cell_type": "code",
      "source": [],
      "metadata": {
        "id": "pA190y-pDdUx"
      },
      "execution_count": null,
      "outputs": []
    },
    {
      "cell_type": "code",
      "source": [],
      "metadata": {
        "id": "L8cR8ecADfKX"
      },
      "execution_count": null,
      "outputs": []
    },
    {
      "cell_type": "code",
      "source": [],
      "metadata": {
        "id": "6DuKRB2rDf4X"
      },
      "execution_count": null,
      "outputs": []
    },
    {
      "cell_type": "code",
      "source": [],
      "metadata": {
        "id": "Rd-BqkRoFAJI"
      },
      "execution_count": null,
      "outputs": []
    },
    {
      "cell_type": "code",
      "source": [],
      "metadata": {
        "id": "sLWdQlWP2fx9"
      },
      "execution_count": null,
      "outputs": []
    },
    {
      "cell_type": "code",
      "source": [],
      "metadata": {
        "id": "qkk5w4gjFBDA"
      },
      "execution_count": null,
      "outputs": []
    },
    {
      "cell_type": "code",
      "source": [],
      "metadata": {
        "id": "PCTH3gSi2dhk"
      },
      "execution_count": null,
      "outputs": []
    },
    {
      "cell_type": "code",
      "source": [],
      "metadata": {
        "id": "W8g21q-a2v-8"
      },
      "execution_count": null,
      "outputs": []
    }
  ]
}