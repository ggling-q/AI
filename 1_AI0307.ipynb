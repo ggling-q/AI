{
  "nbformat": 4,
  "nbformat_minor": 0,
  "metadata": {
    "colab": {
      "provenance": [],
      "authorship_tag": "ABX9TyNOr4fi935C6cno3Ss0tYxh",
      "include_colab_link": true
    },
    "kernelspec": {
      "name": "python3",
      "display_name": "Python 3"
    },
    "language_info": {
      "name": "python"
    }
  },
  "cells": [
    {
      "cell_type": "markdown",
      "metadata": {
        "id": "view-in-github",
        "colab_type": "text"
      },
      "source": [
        "<a href=\"https://colab.research.google.com/github/ggling-q/AI/blob/main/1_AI0307.ipynb\" target=\"_parent\"><img src=\"https://colab.research.google.com/assets/colab-badge.svg\" alt=\"Open In Colab\"/></a>"
      ]
    },
    {
      "cell_type": "markdown",
      "source": [
        "**Colab 기본 단축키**"
      ],
      "metadata": {
        "id": "KB6347Mek1Ho"
      }
    },
    {
      "cell_type": "code",
      "source": [
        "# 1. Ctrl + Enter = 해당 셀을 실행하고 커서를 해당 셀에 두는 경우 (결과 값만 보고자 할 때)\n",
        "\n",
        "# 2. Shift + Enter = 해당 셀을 실행하고 커서를 다음 셀로 넘기는 경우 (여러가지 값을 빠르게 출력할 때)\n",
        "\n",
        "# 3. Alt + Enter = 해당 셀을 실행하고 셀을 삽입한 후 커서를 삽입한 셀로 넘기는 경우 (다음 작업 공간이 없을 때)\n",
        "\n",
        "# Ctrl + M + A = 코드 셀 위에 삽입\n",
        "\n",
        "# Ctrl + M + B = 코드 셀 아래 삽입\n",
        "\n",
        "# Ctrl + M + D = 셀 지우기\n",
        "\n",
        "# Ctrl + M + Y = 코드 셀로 변경\n",
        "\n",
        "# Ctrl + M + M = 마크다운 셀로 변경\n",
        "\n",
        "# Ctrl + M + Z = 실행 취소\n",
        "\n",
        "# Ctrl + M + H = 단축키 모음"
      ],
      "metadata": {
        "id": "ZQlF3XhFdXXP"
      },
      "execution_count": null,
      "outputs": []
    },
    {
      "cell_type": "code",
      "source": [
        "name='이름'\n",
        "age=0\n",
        "\n",
        "\n",
        "name=input(\"이름\")\n",
        "age=input(\"나이\")\n",
        "print(name)\n",
        "print(age)\n",
        "format(name)\n",
        "#format(a:name,b:age)?????"
      ],
      "metadata": {
        "id": "S6XzL54Dlndb",
        "colab": {
          "base_uri": "https://localhost:8080/",
          "height": 108
        },
        "outputId": "2beac022-0c32-4854-e0ba-2c3360e3d203"
      },
      "execution_count": 42,
      "outputs": [
        {
          "output_type": "stream",
          "name": "stdout",
          "text": [
            "이름dlgmlwdh\n",
            "나이10\n",
            "dlgmlwdh\n",
            "10\n"
          ]
        },
        {
          "output_type": "execute_result",
          "data": {
            "text/plain": [
              "'dlgmlwdh'"
            ],
            "application/vnd.google.colaboratory.intrinsic+json": {
              "type": "string"
            }
          },
          "metadata": {},
          "execution_count": 42
        }
      ]
    },
    {
      "cell_type": "code",
      "source": [
        "for z in range(1,10):\n",
        "  print(\"-----------------------------\")\n",
        "  print(z , \"단입니다.\")\n",
        "  print(\"-----------------------------\")\n",
        "  for l in range(1,10):\n",
        "    num=z*l\n",
        "    print(z,\"*\",l,\"=\",num)\n",
        "\n"
      ],
      "metadata": {
        "id": "kipY1B4nm2kx"
      },
      "execution_count": null,
      "outputs": []
    },
    {
      "cell_type": "code",
      "source": [
        "exam=[60,80,95,69,90,81,80,69,79,66,70,90,96]\n",
        "\n",
        "for i in range(0,13):\n",
        "  if exam[i]>=90:\n",
        "    print(\"당신의 성적은\",exam[i],\"이므로 점수는 A입니다.\")\n",
        "    continue\n",
        "  if exam[i]>=80:\n",
        "    print(\"당신의 성적은\",exam[i],\"이므로 점수는 B입니다.\")\n",
        "    continue\n",
        "\n",
        "  if exam[i]>=70:\n",
        "    print(\"당신의 성적은\",exam[i],\"이므로 점수는 C입니다.\")\n",
        "    continue\n",
        "  if exam[i]>=60:\n",
        "    print(\"당신의 성적은\",exam[i],\"이므로 점수는 D입니다.\")\n",
        "    continue\n",
        "  if exam[i]>=80:\n",
        "    print(\"당신의 성적은\",exam[i],\"이므로 점수는 E입니다.\")\n",
        "    continue\n",
        "  else:\n",
        "    print(\"당신의 성적은\",exam[i],\"이므로 점수는 F입니다.\")\n",
        "\n",
        "\n",
        "\n",
        "\n",
        "\n"
      ],
      "metadata": {
        "colab": {
          "base_uri": "https://localhost:8080/"
        },
        "id": "A5V8jxNvo9_5",
        "outputId": "80d4e007-14cf-4f67-890d-baeaf8417233"
      },
      "execution_count": null,
      "outputs": [
        {
          "output_type": "stream",
          "name": "stdout",
          "text": [
            "당신의 성적은 60 이므로 점수는 D입니다.\n",
            "당신의 성적은 80 이므로 점수는 B입니다.\n",
            "당신의 성적은 95 이므로 점수는 A입니다.\n",
            "당신의 성적은 69 이므로 점수는 D입니다.\n",
            "당신의 성적은 90 이므로 점수는 A입니다.\n",
            "당신의 성적은 81 이므로 점수는 B입니다.\n",
            "당신의 성적은 80 이므로 점수는 B입니다.\n",
            "당신의 성적은 69 이므로 점수는 D입니다.\n",
            "당신의 성적은 79 이므로 점수는 C입니다.\n",
            "당신의 성적은 66 이므로 점수는 D입니다.\n",
            "당신의 성적은 70 이므로 점수는 C입니다.\n",
            "당신의 성적은 90 이므로 점수는 A입니다.\n",
            "당신의 성적은 96 이므로 점수는 A입니다.\n"
          ]
        }
      ]
    },
    {
      "cell_type": "code",
      "source": [
        "sum=0\n",
        "for i in range(1,11):\n",
        "  print(\"i의 값:\",i)\n",
        "  sum=sum+i \n",
        "  print(\"합계:\",sum)"
      ],
      "metadata": {
        "colab": {
          "base_uri": "https://localhost:8080/"
        },
        "id": "97eJUF_uryvJ",
        "outputId": "c1c386f7-e45e-446d-d00b-ed5a173ddd01"
      },
      "execution_count": null,
      "outputs": [
        {
          "output_type": "stream",
          "name": "stdout",
          "text": [
            "i의 값: 1\n",
            "합계: 1\n",
            "i의 값: 2\n",
            "합계: 3\n",
            "i의 값: 3\n",
            "합계: 6\n",
            "i의 값: 4\n",
            "합계: 10\n",
            "i의 값: 5\n",
            "합계: 15\n",
            "i의 값: 6\n",
            "합계: 21\n",
            "i의 값: 7\n",
            "합계: 28\n",
            "i의 값: 8\n",
            "합계: 36\n",
            "i의 값: 9\n",
            "합계: 45\n",
            "i의 값: 10\n",
            "합계: 55\n"
          ]
        }
      ]
    },
    {
      "cell_type": "code",
      "source": [
        "print(\"짜장면 주문이요. 여기 돈이요\")\n",
        "money=int(input(\"돈을 건낸다\"))\n",
        "print(\"한그릇에 10,000원...\")\n",
        "if money>=10000:\n",
        "  print(\"구매\")\n",
        "else:\n",
        "  print(\"불가\")"
      ],
      "metadata": {
        "colab": {
          "base_uri": "https://localhost:8080/"
        },
        "id": "oPxVWTbhuT_L",
        "outputId": "947033f1-1229-4134-c226-cad6c3b7776c"
      },
      "execution_count": 39,
      "outputs": [
        {
          "output_type": "stream",
          "name": "stdout",
          "text": [
            "짜장면 주문이요. 여기 돈이요\n",
            "돈을 건낸다100000\n",
            "한그릇에 10,000원...\n",
            "구매\n"
          ]
        }
      ]
    },
    {
      "cell_type": "code",
      "source": [
        "print(\"짜장면 주문이요. \")\n",
        "count=int(input(\"몇 개 주문?   \"))\n",
        "print(count,\"그릇 확인\")\n",
        "price=10000\n",
        "print(\"한그릇에...\",price,)\n",
        "money=int(input(\"돈을 건낸다   \"))\n",
        "\n",
        "\n",
        "if money>=price*count:\n",
        "  print(\"구매\")\n",
        "else:\n",
        "  print(\"불가\")"
      ],
      "metadata": {
        "colab": {
          "base_uri": "https://localhost:8080/"
        },
        "id": "BMpEnXMIwjSB",
        "outputId": "d0b3bda3-d66d-4995-c122-aec8c324ba83"
      },
      "execution_count": 45,
      "outputs": [
        {
          "output_type": "stream",
          "name": "stdout",
          "text": [
            "짜장면 주문이요. \n",
            "몇 개 주문?   2\n",
            "2 그릇 확인\n",
            "한그릇에... 10000\n",
            "돈을 건낸다   1\n",
            "불가\n"
          ]
        }
      ]
    },
    {
      "cell_type": "markdown",
      "source": [
        "재밌는 수업~ 됐으면 좋겠습니다.\n",
        "\n",
        "저학년일때 요런 수업 있었으면 하는 바람이었어서 수강신청햇습니다."
      ],
      "metadata": {
        "id": "oJsaAIMNxOSK"
      }
    }
  ]
}