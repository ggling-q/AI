{
  "nbformat": 4,
  "nbformat_minor": 0,
  "metadata": {
    "colab": {
      "provenance": [],
      "include_colab_link": true
    },
    "kernelspec": {
      "name": "python3",
      "display_name": "Python 3"
    },
    "language_info": {
      "name": "python"
    }
  },
  "cells": [
    {
      "cell_type": "markdown",
      "metadata": {
        "id": "view-in-github",
        "colab_type": "text"
      },
      "source": [
        "<a href=\"https://colab.research.google.com/github/ggling-q/AI/blob/main/%EB%AC%B8%EC%A0%9C_format_List%EC%9D%98_%EC%82%AC%EB%B3%B8.ipynb\" target=\"_parent\"><img src=\"https://colab.research.google.com/assets/colab-badge.svg\" alt=\"Open In Colab\"/></a>"
      ]
    },
    {
      "cell_type": "markdown",
      "source": [
        "##변수에 이름/학교/학과 형식으로 저장하고 format을 사용해print하시오(이름/학교/학과는 각각 input을 활용해 입력"
      ],
      "metadata": {
        "id": "7Qajl-mzmqMA"
      }
    },
    {
      "cell_type": "code",
      "source": [
        "A=\"{}/{}/{}\".format(input(),input(),input())   # 포맷 사용법만 알 면 될 듯 합 니 다"
      ],
      "metadata": {
        "id": "Cf6BfoGHmppC",
        "outputId": "10d11603-fc60-4231-9f6a-a56705abdacd",
        "colab": {
          "base_uri": "https://localhost:8080/"
        }
      },
      "execution_count": null,
      "outputs": [
        {
          "name": "stdout",
          "output_type": "stream",
          "text": [
            "이름\n",
            "학교\n",
            "학과\n"
          ]
        }
      ]
    },
    {
      "cell_type": "markdown",
      "source": [
        "##위에서 생성된 이름/학교/학과 라는 문자를 이름-학교-학과로 변환하시오"
      ],
      "metadata": {
        "id": "Zkw8IHqm_UOY"
      }
    },
    {
      "cell_type": "code",
      "source": [
        "A=A.replace(\"/\",\"-\")\n",
        "A"
      ],
      "metadata": {
        "id": "oXseUZIKAA8X",
        "outputId": "14ec5d09-0c14-4c9d-e0d1-531074712b55",
        "colab": {
          "base_uri": "https://localhost:8080/",
          "height": 35
        }
      },
      "execution_count": null,
      "outputs": [
        {
          "output_type": "execute_result",
          "data": {
            "text/plain": [
              "'이름-학교-학과'"
            ],
            "application/vnd.google.colaboratory.intrinsic+json": {
              "type": "string"
            }
          },
          "metadata": {},
          "execution_count": 3
        }
      ]
    },
    {
      "cell_type": "markdown",
      "source": [
        "##안녕하세요 저는 AI소프트웨어학과 학생입니다. 만나서 반갑습니다. 라는 문장을 만들어서 반갑습니다. 라는 문장만 따로 print하시오 "
      ],
      "metadata": {
        "id": "6wfO4uJkip-s"
      }
    },
    {
      "cell_type": "code",
      "source": [
        "HI=\"안녕하세요. 저는 AI소프트웨어학과 학생입니다. 만나서 반갑습니다.\"\n",
        "print(HI)\n",
        "HI[-10:]"
      ],
      "metadata": {
        "id": "gEn04xM6jAoh",
        "outputId": "862a7cfa-f603-4609-d36b-a1c57842a49d",
        "colab": {
          "base_uri": "https://localhost:8080/",
          "height": 54
        }
      },
      "execution_count": null,
      "outputs": [
        {
          "output_type": "stream",
          "name": "stdout",
          "text": [
            "안녕하세요. 저는 AI소프트웨어학과 학생입니다. 만나서 반갑습니다.\n"
          ]
        },
        {
          "output_type": "execute_result",
          "data": {
            "text/plain": [
              "'만나서 반갑습니다.'"
            ],
            "application/vnd.google.colaboratory.intrinsic+json": {
              "type": "string"
            }
          },
          "metadata": {},
          "execution_count": 5
        }
      ]
    },
    {
      "cell_type": "markdown",
      "source": [
        "##위에서 저장된 변수에서 학교이름만 나오도록 print하시오"
      ],
      "metadata": {
        "id": "01a76lNDm-IR"
      }
    },
    {
      "cell_type": "code",
      "execution_count": null,
      "metadata": {
        "id": "QX2OjsROkwDc",
        "outputId": "fbeb243d-6104-490c-f5d3-fde713f7e01e",
        "colab": {
          "base_uri": "https://localhost:8080/",
          "height": 35
        }
      },
      "outputs": [
        {
          "output_type": "execute_result",
          "data": {
            "text/plain": [
              "'학교'"
            ],
            "application/vnd.google.colaboratory.intrinsic+json": {
              "type": "string"
            }
          },
          "metadata": {},
          "execution_count": 14
        }
      ],
      "source": [
        "A[3:5]"
      ]
    },
    {
      "cell_type": "markdown",
      "source": [
        "##주어진 이름(Jone-30, Park-30, Kim-20, Lee-10, Oh-32, Kang-25)을 name이란 리스트를 만들고 Lee를 가진 사람의 성만 따로 도출하시오"
      ],
      "metadata": {
        "id": "iwarHaxfk4zW"
      }
    },
    {
      "cell_type": "code",
      "source": [
        "name=[\"Jone-30\", \"Park-30\", \"Kim-20\", \"Lee-10\", \"Oh-32\", \"Kang-25\"]\n",
        "name[3]"
      ],
      "metadata": {
        "id": "0RS1SIt2mT55",
        "outputId": "21ec55da-a297-4057-d144-b9f9d5c0f47d",
        "colab": {
          "base_uri": "https://localhost:8080/",
          "height": 35
        }
      },
      "execution_count": null,
      "outputs": [
        {
          "output_type": "execute_result",
          "data": {
            "text/plain": [
              "'Lee-10'"
            ],
            "application/vnd.google.colaboratory.intrinsic+json": {
              "type": "string"
            }
          },
          "metadata": {},
          "execution_count": 17
        }
      ]
    },
    {
      "cell_type": "markdown",
      "source": [
        "##20, 50, 76, 10, 59, 22, 40 ,50, 77, 52의 숫자를 하나의 리스트에 저장하시오"
      ],
      "metadata": {
        "id": "rr__BdUH-Elo"
      }
    },
    {
      "cell_type": "code",
      "source": [
        "num=[20, 50, 76, 10, 59, 22, 40 ,50, 77, 52]"
      ],
      "metadata": {
        "id": "OSfGbKq4mJ8T"
      },
      "execution_count": null,
      "outputs": []
    },
    {
      "cell_type": "markdown",
      "source": [
        "## 위에서 저장된 리스트에서 20, 50, 76, 10만 print하시오"
      ],
      "metadata": {
        "id": "O-YZ8boQ-SiI"
      }
    },
    {
      "cell_type": "code",
      "source": [
        "print(num[0:4])"
      ],
      "metadata": {
        "id": "vCcYYQnxia2i",
        "outputId": "90e3268e-0665-4644-c6c8-c1d337756e56",
        "colab": {
          "base_uri": "https://localhost:8080/"
        }
      },
      "execution_count": null,
      "outputs": [
        {
          "output_type": "stream",
          "name": "stdout",
          "text": [
            "[20, 50, 76, 10]\n"
          ]
        }
      ]
    },
    {
      "cell_type": "markdown",
      "source": [
        "##위에서 저장된 리스트에서 77만 print하시오"
      ],
      "metadata": {
        "id": "jEpdDU_G-eK4"
      }
    },
    {
      "cell_type": "code",
      "source": [
        "num[8]"
      ],
      "metadata": {
        "id": "oWKGzPmo-_d4",
        "outputId": "d08a03c2-6636-4fa0-b038-77f21ed30c3c",
        "colab": {
          "base_uri": "https://localhost:8080/"
        }
      },
      "execution_count": null,
      "outputs": [
        {
          "output_type": "execute_result",
          "data": {
            "text/plain": [
              "77"
            ]
          },
          "metadata": {},
          "execution_count": 22
        }
      ]
    },
    {
      "cell_type": "markdown",
      "source": [
        "## 위에서 저장된 리스트에서 음수를 활용해 77, 52를 가지고오시오"
      ],
      "metadata": {
        "id": "hy4j_vUk-zHA"
      }
    },
    {
      "cell_type": "code",
      "source": [
        "num[-2:]"
      ],
      "metadata": {
        "id": "zXZk1A4Kiidy",
        "outputId": "598175f7-5b19-4d01-dab0-c5fe82b44b2c",
        "colab": {
          "base_uri": "https://localhost:8080/"
        }
      },
      "execution_count": null,
      "outputs": [
        {
          "output_type": "execute_result",
          "data": {
            "text/plain": [
              "[77, 52]"
            ]
          },
          "metadata": {},
          "execution_count": 25
        }
      ]
    }
  ]
}